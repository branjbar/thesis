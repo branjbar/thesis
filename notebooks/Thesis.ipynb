{
 "metadata": {
  "name": "Thesis"
 },
 "nbformat": 3,
 "nbformat_minor": 0,
 "worksheets": [
  {
   "cells": [
    {
     "cell_type": "heading",
     "level": 3,
     "metadata": {},
     "source": [
      "Import all the needed scripts"
     ]
    },
    {
     "cell_type": "code",
     "collapsed": false,
     "input": [
      "import numpy as np\n",
      "from pandas import *\n",
      "import pandas.io.sql as psql\n",
      "import MySQLdb"
     ],
     "language": "python",
     "metadata": {},
     "outputs": [],
     "prompt_number": "*"
    },
    {
     "cell_type": "heading",
     "level": 3,
     "metadata": {},
     "source": [
      "Connect to the MySQL-database"
     ]
    },
    {
     "cell_type": "code",
     "collapsed": false,
     "input": [
      "def queryToDataFrame(query):\n",
      "    #Establish a connection to the MySQL database\n",
      "    con = MySQLdb.connect(host='127.0.0.1',\n",
      "                      port=4321,\n",
      "                      user='bijan',\n",
      "                      passwd='bhic',\n",
      "                      db='test')  \n",
      "    df = psql.frame_query(query, con)\n",
      "    con.close()\n",
      "    \n",
      "    return df\n",
      "\n",
      "tables = ['birth_certificates', 'marriage_certificates', 'death_certificates', 'burried_certificates', 'christen_certificates']\n",
      "date_rows = ['aktedatum', 'datum', 'datum', '', '']\n",
      "\n",
      "query = \"\"\"\n",
      "    select *\n",
      "        from birth_certificates\n",
      "    \"\"\"\n",
      "# only birth, marriage and death (i<3)\n",
      "for i in range(0,1):\n",
      "    query = \"select * from \" + tables[i] #+ \" where \" + date_rows[i] + \"!= null\"\n",
      "    df = queryToDataFrame(query)[date_rows[i]].dropna()\n",
      "    #cert_birth = Series(1, index=df)\n",
      "#cert_birth\n",
      "df\n"
     ],
     "language": "python",
     "metadata": {},
     "outputs": [],
     "prompt_number": "*"
    },
    {
     "cell_type": "code",
     "collapsed": false,
     "input": [
      "#test = DataFrame(df, columns=['birth_dates'])\n",
      "#test['birth_freq'] = 1\n",
      "cert_birth = Series(1, index=df)\n",
      "#test.birth_dates\n",
      "#test.birth_dates[test.birth_dates.year > 2000]\n",
      "cert_birth "
     ],
     "language": "python",
     "metadata": {},
     "outputs": [
      {
       "output_type": "pyout",
       "prompt_number": 143,
       "text": [
        "aktedatum\n",
        "1811-01-02 23:00:00    1\n",
        "1811-01-02 23:00:00    1\n",
        "1811-01-02 23:00:00    1\n",
        "1811-01-03 23:00:00    1\n",
        "1811-01-03 23:00:00    1\n",
        "1811-01-03 23:00:00    1\n",
        "1811-01-05 23:00:00    1\n",
        "1811-01-05 23:00:00    1\n",
        "1811-01-07 23:00:00    1\n",
        "1811-01-10 23:00:00    1\n",
        "1811-01-13 23:00:00    1\n",
        "1811-01-14 23:00:00    1\n",
        "1811-01-14 23:00:00    1\n",
        "1811-01-14 23:00:00    1\n",
        "1811-01-14 23:00:00    1\n",
        "...\n",
        "1942-10-19 22:00:00    1\n",
        "1942-10-22 22:00:00    1\n",
        "1942-10-22 22:00:00    1\n",
        "1942-11-04 23:00:00    1\n",
        "1942-11-05 23:00:00    1\n",
        "1942-11-07 23:00:00    1\n",
        "1942-11-10 23:00:00    1\n",
        "1942-12-05 23:00:00    1\n",
        "1942-12-09 23:00:00    1\n",
        "1942-12-09 23:00:00    1\n",
        "1942-12-14 23:00:00    1\n",
        "1942-12-24 23:00:00    1\n",
        "1981-09-23 22:00:00    1\n",
        "1811-01-02 23:00:00    1\n",
        "1811-01-02 23:00:00    1\n",
        "Length: 85077"
       ]
      }
     ],
     "prompt_number": 143
    },
    {
     "cell_type": "code",
     "collapsed": false,
     "input": [
      "df = dates_bc[['id', 'aktedatum']]\n"
     ],
     "language": "python",
     "metadata": {},
     "outputs": [],
     "prompt_number": 4
    },
    {
     "cell_type": "code",
     "collapsed": false,
     "input": [
      "key = lambda x: x.year\n",
      "# test = df.groupby(df.aktedatum.map(key))\n",
      "# df.groupby('aktedatum').sum()\n",
      "# Series.apply(df.aktedatum, key)\n",
      "# df['year'] = df.dropna().aktedatum.map(lambda x: x.year)\n",
      "df.groupby(df.year).id.count().cumsum()[1:123].plot()\n",
      "#test = df.dropna().groupby(df.dropna().aktedatum.map(lambda x: x.year))\n",
      "#test.sum().tail()"
     ],
     "language": "python",
     "metadata": {},
     "outputs": [
      {
       "output_type": "pyout",
       "prompt_number": 86,
       "text": [
        "<matplotlib.axes.AxesSubplot at 0x10fbc6cc>"
       ]
      },
      {
       "output_type": "display_data",
       "png": "[encoded data removed]"
      }
     ],
     "prompt_number": 86
    },
    {
     "cell_type": "code",
     "collapsed": false,
     "input": [
      "d = {\"birth_certificates\" : dates_bc}\n",
      "df = DataFrame(d)\n",
      "df.columns = ['birth_certificate']\n",
      "df.birth_certificate.head()\n",
      "years_bc = df.groupby(df['birth_certificates'].map(lambda x: x.year))"
     ],
     "language": "python",
     "metadata": {},
     "outputs": [
      {
       "output_type": "pyout",
       "prompt_number": 69,
       "text": [
        "0    1903-01-05 23:40:28\n",
        "1    1903-01-07 23:40:28\n",
        "2    1903-03-16 23:40:28\n",
        "3    1903-03-21 23:40:28\n",
        "4    1903-04-01 23:40:28\n",
        "Name: birth_certificate"
       ]
      }
     ],
     "prompt_number": 69
    }
   ],
   "metadata": {}
  }
 ]
}